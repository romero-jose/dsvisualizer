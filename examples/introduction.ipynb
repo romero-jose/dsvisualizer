{
 "cells": [
  {
   "cell_type": "markdown",
   "metadata": {},
   "source": [
    "# Introduction to dsvisualizer"
   ]
  },
  {
   "cell_type": "code",
   "execution_count": null,
   "metadata": {
    "scrolled": true
   },
   "outputs": [],
   "source": [
    "from dsvisualizer import node, container, Logger"
   ]
  },
  {
   "cell_type": "markdown",
   "metadata": {},
   "source": [
    "## Basic usage"
   ]
  },
  {
   "cell_type": "markdown",
   "metadata": {},
   "source": [
    "To use dsvisualizer you first need to implement the linked list you want to visualize."
   ]
  },
  {
   "cell_type": "code",
   "execution_count": null,
   "metadata": {},
   "outputs": [],
   "source": [
    "class Node():\n",
    "    def __init__(self, v, n):\n",
    "        self.val = v\n",
    "        self.next = n\n",
    "\n",
    "class List():\n",
    "    def __init__(self):\n",
    "        self.head = None\n",
    "\n",
    "    def push(self, v):\n",
    "        self.head = Node(v, self.head)\n",
    "\n",
    "    def append(self, v):\n",
    "        head = self.head\n",
    "        if head is None:\n",
    "            self.head = Node(v, None)\n",
    "            return\n",
    "        \n",
    "        node = self.head\n",
    "        while True:\n",
    "            next = node.next\n",
    "            if next is None:\n",
    "                break\n",
    "            node = next\n",
    "        node.next = Node(v, None)"
   ]
  },
  {
   "cell_type": "markdown",
   "metadata": {},
   "source": [
    "After implementing the linked list you can use the decorators `node` and `container` to generate visualizations from your linked list implementation.\n",
    "\n",
    "Add the `node` decorator to your node implementation. The arguments are the names of the fields with the value and the next node.\n",
    "\n",
    "Add the `container` decorator to the class that has the reference to the node. This will add a `visualize` method."
   ]
  },
  {
   "cell_type": "code",
   "execution_count": null,
   "metadata": {},
   "outputs": [],
   "source": [
    "@node('val', 'next')\n",
    "class Node():\n",
    "    def __init__(self, v, n):\n",
    "        self.val = v\n",
    "        self.next = n\n",
    "\n",
    "@container()\n",
    "class List():\n",
    "    def __init__(self):\n",
    "        self.head = None\n",
    "\n",
    "    def push(self, v):\n",
    "        self.head = Node(v, self.head)\n",
    "\n",
    "    def append(self, v):\n",
    "        node = self.head\n",
    "        if node is None:\n",
    "            self.head = Node(v, None)\n",
    "            return\n",
    "        \n",
    "        while True:\n",
    "            next = node.next\n",
    "            if next is None:\n",
    "                break\n",
    "            node = next\n",
    "        node.next = Node(v, None)"
   ]
  },
  {
   "cell_type": "markdown",
   "metadata": {},
   "source": [
    "Now the container will have a `visualize` method. Let's try it out!"
   ]
  },
  {
   "cell_type": "code",
   "execution_count": null,
   "metadata": {
    "scrolled": true
   },
   "outputs": [],
   "source": [
    "l = List()\n",
    "\n",
    "l.append(0)\n",
    "l.append(1)\n",
    "l.append(2)\n",
    "l.push(-1)\n",
    "l.push(-2)\n",
    "\n",
    "l.visualize()"
   ]
  },
  {
   "cell_type": "markdown",
   "metadata": {},
   "source": [
    "If we don't want to see the full animation we can call visualize multiple times, and it will only animate what has happened since the previous time it was called."
   ]
  },
  {
   "cell_type": "code",
   "execution_count": null,
   "metadata": {},
   "outputs": [],
   "source": [
    "l = List()\n",
    "\n",
    "l.append(0)\n",
    "l.append(1)\n",
    "l.append(2)\n",
    "\n",
    "l.visualize()\n",
    "\n",
    "l.push(-1)\n",
    "l.push(-2)\n",
    "\n",
    "l.visualize()"
   ]
  },
  {
   "cell_type": "markdown",
   "metadata": {},
   "source": [
    "If the visualization was too fast we can slow it down by setting the transition and fade duration."
   ]
  },
  {
   "cell_type": "code",
   "execution_count": null,
   "metadata": {},
   "outputs": [],
   "source": [
    "l = List()\n",
    "\n",
    "l.append(0)\n",
    "l.append(1)\n",
    "l.append(2)\n",
    "\n",
    "l.visualize()\n",
    "\n",
    "l.push(-1)\n",
    "l.push(-2)\n",
    "\n",
    "l.visualize(transition_duration=1500, fade_in_duration=1500)"
   ]
  },
  {
   "cell_type": "markdown",
   "metadata": {},
   "source": [
    "## Using the Logger directly\n",
    "\n",
    "If we want to visualize nodes without a container we can use the logger."
   ]
  },
  {
   "cell_type": "code",
   "execution_count": null,
   "metadata": {},
   "outputs": [],
   "source": [
    "with Logger() as logger:\n",
    "    n = Node(5, Node(10, Node(20, None)))\n",
    "logger.visualize()"
   ]
  },
  {
   "cell_type": "markdown",
   "metadata": {},
   "source": [
    "We can reuse the same logger in multiple cells."
   ]
  },
  {
   "cell_type": "code",
   "execution_count": null,
   "metadata": {},
   "outputs": [],
   "source": [
    "with logger:\n",
    "    n = Node(10, n)\n",
    "logger.visualize()"
   ]
  },
  {
   "cell_type": "code",
   "execution_count": null,
   "metadata": {},
   "outputs": [],
   "source": []
  }
 ],
 "metadata": {
  "interpreter": {
   "hash": "1936e333f07b8d6016021ad83d82518ed24ce8399eb5035b964b2f6169309328"
  },
  "kernelspec": {
   "display_name": "Python 3 (ipykernel)",
   "language": "python",
   "name": "python3"
  },
  "language_info": {
   "codemirror_mode": {
    "name": "ipython",
    "version": 3
   },
   "file_extension": ".py",
   "mimetype": "text/x-python",
   "name": "python",
   "nbconvert_exporter": "python",
   "pygments_lexer": "ipython3",
   "version": "3.10.4"
  }
 },
 "nbformat": 4,
 "nbformat_minor": 2
}
