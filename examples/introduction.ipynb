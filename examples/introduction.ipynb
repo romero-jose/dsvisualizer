{
 "cells": [
  {
   "cell_type": "markdown",
   "metadata": {},
   "source": [
    "# Introduction"
   ]
  },
  {
   "cell_type": "code",
   "execution_count": null,
   "metadata": {
    "scrolled": true
   },
   "outputs": [],
   "source": [
    "from dsvisualizer import *"
   ]
  },
  {
   "cell_type": "code",
   "execution_count": null,
   "metadata": {},
   "outputs": [],
   "source": [
    "@node('val', 'next')\n",
    "class Node():\n",
    "    def __init__(self, v, n):\n",
    "        self.val = v\n",
    "        self.next = n\n",
    "\n",
    "@container()\n",
    "class List():\n",
    "    def __init__(self):\n",
    "        self.head = None\n",
    "\n",
    "    def push(self, v):\n",
    "        self.head = Node(v, self.head)\n",
    "\n",
    "    def append(self, v):\n",
    "        head = self.head\n",
    "        if head is None:\n",
    "            self.head = Node(v, None)\n",
    "            return\n",
    "        \n",
    "        node = self.head\n",
    "        while True:\n",
    "            next = node.next\n",
    "            if next is None:\n",
    "                break\n",
    "            node = next\n",
    "        node.next = Node(v, None)"
   ]
  },
  {
   "cell_type": "code",
   "execution_count": null,
   "metadata": {
    "scrolled": true
   },
   "outputs": [],
   "source": [
    "l = List()\n",
    "\n",
    "l.append(0)\n",
    "l.append(1)\n",
    "l.append(2)\n",
    "l.append(3)\n",
    "l.push(-1)\n",
    "l.push(-2)\n",
    "\n",
    "l.visualize()"
   ]
  },
  {
   "cell_type": "code",
   "execution_count": null,
   "metadata": {},
   "outputs": [],
   "source": [
    "l.append(15)\n",
    "l.visualize()"
   ]
  },
  {
   "cell_type": "code",
   "execution_count": null,
   "metadata": {},
   "outputs": [],
   "source": [
    "with Logger() as logger:\n",
    "    n = Node(5, Node(10, Node(20, None)))\n",
    "logger.visualize()"
   ]
  },
  {
   "cell_type": "code",
   "execution_count": null,
   "metadata": {},
   "outputs": [],
   "source": [
    "with logger:\n",
    "    n = Node(10, n)\n",
    "logger.visualize()"
   ]
  },
  {
   "cell_type": "code",
   "execution_count": null,
   "metadata": {},
   "outputs": [],
   "source": []
  }
 ],
 "metadata": {
  "interpreter": {
   "hash": "ea716e4a9470f893b81fd6dd18ffd25366485257d3147fb74cab4a7f964932b0"
  },
  "kernelspec": {
   "display_name": "Python 3 (ipykernel)",
   "language": "python",
   "name": "python3"
  },
  "language_info": {
   "codemirror_mode": {
    "name": "ipython",
    "version": 3
   },
   "file_extension": ".py",
   "mimetype": "text/x-python",
   "name": "python",
   "nbconvert_exporter": "python",
   "pygments_lexer": "ipython3",
   "version": "3.10.4"
  }
 },
 "nbformat": 4,
 "nbformat_minor": 2
}
