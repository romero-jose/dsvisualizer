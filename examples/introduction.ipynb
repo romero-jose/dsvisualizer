{
 "cells": [
  {
   "cell_type": "markdown",
   "metadata": {},
   "source": [
    "# Introduction"
   ]
  },
  {
   "cell_type": "code",
   "execution_count": 1,
   "metadata": {
    "scrolled": true
   },
   "outputs": [],
   "source": [
    "from dsvisualizer import *"
   ]
  },
  {
   "cell_type": "code",
   "execution_count": 2,
   "metadata": {
    "scrolled": true
   },
   "outputs": [
    {
     "data": {
      "application/vnd.jupyter.widget-view+json": {
       "model_id": "92044e9e733a4b90b18f4e8b0391ad24",
       "version_major": 2,
       "version_minor": 0
      },
      "text/plain": [
       "OperationsWidget()"
      ]
     },
     "metadata": {},
     "output_type": "display_data"
    }
   ],
   "source": [
    "w = OperationsWidget()\n",
    "w"
   ]
  },
  {
   "cell_type": "code",
   "execution_count": 3,
   "metadata": {},
   "outputs": [
    {
     "data": {
      "application/vnd.jupyter.widget-view+json": {
       "model_id": "92044e9e733a4b90b18f4e8b0391ad24",
       "version_major": 2,
       "version_minor": 0
      },
      "text/plain": [
       "OperationsWidget(operations=[Init(id=1, value=10, next=None)])"
      ]
     },
     "metadata": {},
     "output_type": "display_data"
    }
   ],
   "source": [
    "w.operations = w.operations + [Init(id=1, value=10, next=None)]\n",
    "w"
   ]
  },
  {
   "cell_type": "code",
   "execution_count": 4,
   "metadata": {},
   "outputs": [
    {
     "data": {
      "application/vnd.jupyter.widget-view+json": {
       "model_id": "92044e9e733a4b90b18f4e8b0391ad24",
       "version_major": 2,
       "version_minor": 0
      },
      "text/plain": [
       "OperationsWidget(operations=[Init(id=1, value=10, next=None), Init(id=2, value=11, next=None)])"
      ]
     },
     "metadata": {},
     "output_type": "display_data"
    }
   ],
   "source": [
    "w.operations = w.operations + [Init(id=2, value=11, next=None)]\n",
    "w"
   ]
  },
  {
   "cell_type": "code",
   "execution_count": 5,
   "metadata": {},
   "outputs": [
    {
     "data": {
      "application/vnd.jupyter.widget-view+json": {
       "model_id": "92044e9e733a4b90b18f4e8b0391ad24",
       "version_major": 2,
       "version_minor": 0
      },
      "text/plain": [
       "OperationsWidget(operations=[Init(id=1, value=10, next=None), Init(id=2, value=11, next=None), SetNext(id=1, n…"
      ]
     },
     "metadata": {},
     "output_type": "display_data"
    }
   ],
   "source": [
    "w.operations = w.operations + [SetNext(id=1, next=2)]\n",
    "w"
   ]
  },
  {
   "cell_type": "code",
   "execution_count": null,
   "metadata": {},
   "outputs": [],
   "source": []
  }
 ],
 "metadata": {
  "kernelspec": {
   "display_name": "Python 3 (ipykernel)",
   "language": "python",
   "name": "python3"
  },
  "language_info": {
   "codemirror_mode": {
    "name": "ipython",
    "version": 3
   },
   "file_extension": ".py",
   "mimetype": "text/x-python",
   "name": "python",
   "nbconvert_exporter": "python",
   "pygments_lexer": "ipython3",
   "version": "3.9.12"
  }
 },
 "nbformat": 4,
 "nbformat_minor": 2
}
